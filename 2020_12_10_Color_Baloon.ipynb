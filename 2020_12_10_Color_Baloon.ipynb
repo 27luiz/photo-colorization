{
  "nbformat": 4,
  "nbformat_minor": 0,
  "metadata": {
    "colab": {
      "name": "2020-12-10-Color_Baloon.ipynb",
      "provenance": [],
      "authorship_tag": "ABX9TyO24sTXMFMVfuR+JXJggpSs",
      "include_colab_link": true
    },
    "kernelspec": {
      "name": "python3",
      "display_name": "Python 3"
    },
    "widgets": {
      "application/vnd.jupyter.widget-state+json": {
        "b1a4a1b603fa4f74b5dbc61fae32d546": {
          "model_module": "@jupyter-widgets/controls",
          "model_name": "HBoxModel",
          "state": {
            "_view_name": "HBoxView",
            "_dom_classes": [],
            "_model_name": "HBoxModel",
            "_view_module": "@jupyter-widgets/controls",
            "_model_module_version": "1.5.0",
            "_view_count": null,
            "_view_module_version": "1.5.0",
            "box_style": "",
            "layout": "IPY_MODEL_95414ab5ecdd4bfcb2583062314ac849",
            "_model_module": "@jupyter-widgets/controls",
            "children": [
              "IPY_MODEL_b9fd934274c6468a9b4f62df61950cd5",
              "IPY_MODEL_69e1d03d010a421b9be48709431efae7"
            ]
          }
        },
        "95414ab5ecdd4bfcb2583062314ac849": {
          "model_module": "@jupyter-widgets/base",
          "model_name": "LayoutModel",
          "state": {
            "_view_name": "LayoutView",
            "grid_template_rows": null,
            "right": null,
            "justify_content": null,
            "_view_module": "@jupyter-widgets/base",
            "overflow": null,
            "_model_module_version": "1.2.0",
            "_view_count": null,
            "flex_flow": null,
            "width": null,
            "min_width": null,
            "border": null,
            "align_items": null,
            "bottom": null,
            "_model_module": "@jupyter-widgets/base",
            "top": null,
            "grid_column": null,
            "overflow_y": null,
            "overflow_x": null,
            "grid_auto_flow": null,
            "grid_area": null,
            "grid_template_columns": null,
            "flex": null,
            "_model_name": "LayoutModel",
            "justify_items": null,
            "grid_row": null,
            "max_height": null,
            "align_content": null,
            "visibility": null,
            "align_self": null,
            "height": null,
            "min_height": null,
            "padding": null,
            "grid_auto_rows": null,
            "grid_gap": null,
            "max_width": null,
            "order": null,
            "_view_module_version": "1.2.0",
            "grid_template_areas": null,
            "object_position": null,
            "object_fit": null,
            "grid_auto_columns": null,
            "margin": null,
            "display": null,
            "left": null
          }
        },
        "b9fd934274c6468a9b4f62df61950cd5": {
          "model_module": "@jupyter-widgets/controls",
          "model_name": "FloatProgressModel",
          "state": {
            "_view_name": "ProgressView",
            "style": "IPY_MODEL_f7512795e95d4a59a89f7a06fb652514",
            "_dom_classes": [],
            "description": "100%",
            "_model_name": "FloatProgressModel",
            "bar_style": "success",
            "max": 178728960,
            "_view_module": "@jupyter-widgets/controls",
            "_model_module_version": "1.5.0",
            "value": 178728960,
            "_view_count": null,
            "_view_module_version": "1.5.0",
            "orientation": "horizontal",
            "min": 0,
            "description_tooltip": null,
            "_model_module": "@jupyter-widgets/controls",
            "layout": "IPY_MODEL_9448c72f79224af0b24abceadcfd7c5e"
          }
        },
        "69e1d03d010a421b9be48709431efae7": {
          "model_module": "@jupyter-widgets/controls",
          "model_name": "HTMLModel",
          "state": {
            "_view_name": "HTMLView",
            "style": "IPY_MODEL_548713af17fc422b82c433b444a44e50",
            "_dom_classes": [],
            "description": "",
            "_model_name": "HTMLModel",
            "placeholder": "​",
            "_view_module": "@jupyter-widgets/controls",
            "_model_module_version": "1.5.0",
            "value": " 170M/170M [00:05&lt;00:00, 31.6MB/s]",
            "_view_count": null,
            "_view_module_version": "1.5.0",
            "description_tooltip": null,
            "_model_module": "@jupyter-widgets/controls",
            "layout": "IPY_MODEL_20ae0921144f43f1a3209dc9d8df48d7"
          }
        },
        "f7512795e95d4a59a89f7a06fb652514": {
          "model_module": "@jupyter-widgets/controls",
          "model_name": "ProgressStyleModel",
          "state": {
            "_view_name": "StyleView",
            "_model_name": "ProgressStyleModel",
            "description_width": "initial",
            "_view_module": "@jupyter-widgets/base",
            "_model_module_version": "1.5.0",
            "_view_count": null,
            "_view_module_version": "1.2.0",
            "bar_color": null,
            "_model_module": "@jupyter-widgets/controls"
          }
        },
        "9448c72f79224af0b24abceadcfd7c5e": {
          "model_module": "@jupyter-widgets/base",
          "model_name": "LayoutModel",
          "state": {
            "_view_name": "LayoutView",
            "grid_template_rows": null,
            "right": null,
            "justify_content": null,
            "_view_module": "@jupyter-widgets/base",
            "overflow": null,
            "_model_module_version": "1.2.0",
            "_view_count": null,
            "flex_flow": null,
            "width": null,
            "min_width": null,
            "border": null,
            "align_items": null,
            "bottom": null,
            "_model_module": "@jupyter-widgets/base",
            "top": null,
            "grid_column": null,
            "overflow_y": null,
            "overflow_x": null,
            "grid_auto_flow": null,
            "grid_area": null,
            "grid_template_columns": null,
            "flex": null,
            "_model_name": "LayoutModel",
            "justify_items": null,
            "grid_row": null,
            "max_height": null,
            "align_content": null,
            "visibility": null,
            "align_self": null,
            "height": null,
            "min_height": null,
            "padding": null,
            "grid_auto_rows": null,
            "grid_gap": null,
            "max_width": null,
            "order": null,
            "_view_module_version": "1.2.0",
            "grid_template_areas": null,
            "object_position": null,
            "object_fit": null,
            "grid_auto_columns": null,
            "margin": null,
            "display": null,
            "left": null
          }
        },
        "548713af17fc422b82c433b444a44e50": {
          "model_module": "@jupyter-widgets/controls",
          "model_name": "DescriptionStyleModel",
          "state": {
            "_view_name": "StyleView",
            "_model_name": "DescriptionStyleModel",
            "description_width": "",
            "_view_module": "@jupyter-widgets/base",
            "_model_module_version": "1.5.0",
            "_view_count": null,
            "_view_module_version": "1.2.0",
            "_model_module": "@jupyter-widgets/controls"
          }
        },
        "20ae0921144f43f1a3209dc9d8df48d7": {
          "model_module": "@jupyter-widgets/base",
          "model_name": "LayoutModel",
          "state": {
            "_view_name": "LayoutView",
            "grid_template_rows": null,
            "right": null,
            "justify_content": null,
            "_view_module": "@jupyter-widgets/base",
            "overflow": null,
            "_model_module_version": "1.2.0",
            "_view_count": null,
            "flex_flow": null,
            "width": null,
            "min_width": null,
            "border": null,
            "align_items": null,
            "bottom": null,
            "_model_module": "@jupyter-widgets/base",
            "top": null,
            "grid_column": null,
            "overflow_y": null,
            "overflow_x": null,
            "grid_auto_flow": null,
            "grid_area": null,
            "grid_template_columns": null,
            "flex": null,
            "_model_name": "LayoutModel",
            "justify_items": null,
            "grid_row": null,
            "max_height": null,
            "align_content": null,
            "visibility": null,
            "align_self": null,
            "height": null,
            "min_height": null,
            "padding": null,
            "grid_auto_rows": null,
            "grid_gap": null,
            "max_width": null,
            "order": null,
            "_view_module_version": "1.2.0",
            "grid_template_areas": null,
            "object_position": null,
            "object_fit": null,
            "grid_auto_columns": null,
            "margin": null,
            "display": null,
            "left": null
          }
        }
      }
    }
  },
  "cells": [
    {
      "cell_type": "markdown",
      "metadata": {
        "id": "view-in-github",
        "colab_type": "text"
      },
      "source": [
        "<a href=\"https://colab.research.google.com/github/othonrangel/photo-colorization/blob/master/2020_12_10_Color_Baloon.ipynb\" target=\"_parent\"><img src=\"https://colab.research.google.com/assets/colab-badge.svg\" alt=\"Open In Colab\"/></a>"
      ]
    },
    {
      "cell_type": "markdown",
      "metadata": {
        "id": "TCo3yR7knsf9"
      },
      "source": [
        "\r\n",
        "# \"Colorização Balão\"\r\n",
        "> \"Colorização da imagem usando a rede neural DeOldify\"\r\n",
        "\r\n",
        "- toc: false\r\n",
        "- branch: master\r\n",
        "- badges: true\r\n",
        "- comments: true\r\n",
        "- categories: [images]"
      ]
    },
    {
      "cell_type": "code",
      "metadata": {
        "colab": {
          "base_uri": "https://localhost:8080/"
        },
        "id": "kg3aqU6RlJIw",
        "outputId": "bc217bb2-50e0-494e-a69e-771cd2914e8a"
      },
      "source": [
        "#hide\r\n",
        "!wget https://raw.githubusercontent.com/awarischool/data-science/master/image-colorizer/deoldify_wrapper.py"
      ],
      "execution_count": null,
      "outputs": [
        {
          "output_type": "stream",
          "text": [
            "--2020-12-10 21:41:10--  https://raw.githubusercontent.com/awarischool/data-science/master/image-colorizer/deoldify_wrapper.py\n",
            "Resolving raw.githubusercontent.com (raw.githubusercontent.com)... 151.101.0.133, 151.101.64.133, 151.101.128.133, ...\n",
            "Connecting to raw.githubusercontent.com (raw.githubusercontent.com)|151.101.0.133|:443... connected.\n",
            "HTTP request sent, awaiting response... 200 OK\n",
            "Length: 2623 (2.6K) [text/plain]\n",
            "Saving to: ‘deoldify_wrapper.py’\n",
            "\n",
            "\rdeoldify_wrapper.py   0%[                    ]       0  --.-KB/s               \rdeoldify_wrapper.py 100%[===================>]   2.56K  --.-KB/s    in 0s      \n",
            "\n",
            "2020-12-10 21:41:10 (45.6 MB/s) - ‘deoldify_wrapper.py’ saved [2623/2623]\n",
            "\n"
          ],
          "name": "stdout"
        }
      ]
    },
    {
      "cell_type": "code",
      "metadata": {
        "colab": {
          "base_uri": "https://localhost:8080/"
        },
        "id": "8ssMGvimmc28",
        "outputId": "676f192b-d191-4e10-aedc-f28ca90409c4"
      },
      "source": [
        "#hide\r\n",
        "from deoldify_wrapper import DeOldify"
      ],
      "execution_count": null,
      "outputs": [
        {
          "output_type": "stream",
          "text": [
            "  Importing Libraries\n",
            "No module named 'deoldify'\n",
            "DeOldify not found, installing..\n",
            "  Cloning DeOldify Repository...\n",
            "  Opening DeOldify Folder\n",
            "  Importing Libraries\n"
          ],
          "name": "stdout"
        },
        {
          "output_type": "stream",
          "text": [
            "/content/deoldify_wrapper.py:36: UserWarning: WARNING: GPU not available. Activate it on Colab at Edit > Notebook Settings\n",
            "  warnings.warn('WARNING: GPU not available. Activate it on Colab at Edit > Notebook Settings')\n"
          ],
          "name": "stderr"
        },
        {
          "output_type": "stream",
          "text": [
            "  Installing Colab requirements...\n",
            "  Importing DeOldify Visualize module and FastAI\n",
            "  Downloading Colorizer Model\n"
          ],
          "name": "stdout"
        }
      ]
    },
    {
      "cell_type": "code",
      "metadata": {
        "colab": {
          "base_uri": "https://localhost:8080/",
          "height": 202,
          "referenced_widgets": [
            "b1a4a1b603fa4f74b5dbc61fae32d546",
            "95414ab5ecdd4bfcb2583062314ac849",
            "b9fd934274c6468a9b4f62df61950cd5",
            "69e1d03d010a421b9be48709431efae7",
            "f7512795e95d4a59a89f7a06fb652514",
            "9448c72f79224af0b24abceadcfd7c5e",
            "548713af17fc422b82c433b444a44e50",
            "20ae0921144f43f1a3209dc9d8df48d7"
          ]
        },
        "id": "PJ7xE2pJmh2s",
        "outputId": "5e679f53-33f0-4ed8-8493-5a1e4f119dac"
      },
      "source": [
        "#hide\r\n",
        "deo = DeOldify()"
      ],
      "execution_count": null,
      "outputs": [
        {
          "output_type": "stream",
          "text": [
            "  Initializing Colorizer\n"
          ],
          "name": "stdout"
        },
        {
          "output_type": "stream",
          "text": [
            "/usr/local/lib/python3.6/dist-packages/fastai/data_block.py:442: UserWarning: Your training set is empty. If this is by design, pass `ignore_empty=True` to remove this warning.\n",
            "  warn(\"Your training set is empty. If this is by design, pass `ignore_empty=True` to remove this warning.\")\n",
            "/usr/local/lib/python3.6/dist-packages/fastai/data_block.py:445: UserWarning: Your validation set is empty. If this is by design, use `split_none()`\n",
            "                 or pass `ignore_empty=True` when labelling to remove this warning.\n",
            "  or pass `ignore_empty=True` when labelling to remove this warning.\"\"\")\n",
            "Downloading: \"https://download.pytorch.org/models/resnet101-5d3b4d8f.pth\" to /root/.cache/torch/hub/checkpoints/resnet101-5d3b4d8f.pth\n"
          ],
          "name": "stderr"
        },
        {
          "output_type": "display_data",
          "data": {
            "application/vnd.jupyter.widget-view+json": {
              "model_id": "b1a4a1b603fa4f74b5dbc61fae32d546",
              "version_minor": 0,
              "version_major": 2
            },
            "text/plain": [
              "HBox(children=(FloatProgress(value=0.0, max=178728960.0), HTML(value='')))"
            ]
          },
          "metadata": {
            "tags": []
          }
        },
        {
          "output_type": "stream",
          "text": [
            "\n",
            "Done!\n"
          ],
          "name": "stdout"
        }
      ]
    },
    {
      "cell_type": "code",
      "metadata": {
        "colab": {
          "base_uri": "https://localhost:8080/"
        },
        "id": "bWJXlgBXm6FV",
        "outputId": "62e7eca8-5e98-4236-b3d4-7af7a0dc8319"
      },
      "source": [
        "#hide_input\r\n",
        "!wget https://coisasquegosto.files.wordpress.com/2009/01/51.jpg"
      ],
      "execution_count": null,
      "outputs": [
        {
          "output_type": "stream",
          "text": [
            "--2020-12-10 21:45:35--  https://coisasquegosto.files.wordpress.com/2009/01/51.jpg\n",
            "Resolving coisasquegosto.files.wordpress.com (coisasquegosto.files.wordpress.com)... 192.0.72.24, 192.0.72.25\n",
            "Connecting to coisasquegosto.files.wordpress.com (coisasquegosto.files.wordpress.com)|192.0.72.24|:443... connected.\n",
            "HTTP request sent, awaiting response... 200 OK\n",
            "Length: 63309 (62K) [image/jpeg]\n",
            "Saving to: ‘51.jpg’\n",
            "\n",
            "51.jpg              100%[===================>]  61.83K  --.-KB/s    in 0.05s   \n",
            "\n",
            "2020-12-10 21:45:35 (1.16 MB/s) - ‘51.jpg’ saved [63309/63309]\n",
            "\n"
          ],
          "name": "stdout"
        }
      ]
    },
    {
      "cell_type": "code",
      "metadata": {
        "id": "oSjXZ_0Nnd2c"
      },
      "source": [
        "#hide_input\r\n",
        "deo.colorize('https://coisasquegosto.files.wordpress.com/2009/01/51.jpg',render_factor = 20)"
      ],
      "execution_count": null,
      "outputs": []
    }
  ]
}