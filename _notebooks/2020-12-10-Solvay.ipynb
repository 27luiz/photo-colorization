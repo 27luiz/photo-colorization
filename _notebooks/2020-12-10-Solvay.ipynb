{
  "nbformat": 4,
  "nbformat_minor": 0,
  "metadata": {
    "colab": {
      "name": "2020-12-10-Solvay.ipynb",
      "provenance": [],
      "authorship_tag": "ABX9TyO2OvQLQnTOGEwaAPmcrHWw",
      "include_colab_link": true
    },
    "kernelspec": {
      "name": "python3",
      "display_name": "Python 3"
    }
  },
  "cells": [
    {
      "cell_type": "markdown",
      "metadata": {
        "id": "view-in-github",
        "colab_type": "text"
      },
      "source": [
        "<a href=\"https://colab.research.google.com/github/AlessandroRibas/photo-colorization/blob/master/_notebooks/2020-12-10-Solvay.ipynb\" target=\"_parent\"><img src=\"https://colab.research.google.com/assets/colab-badge.svg\" alt=\"Open In Colab\"/></a>"
      ]
    },
    {
      "cell_type": "markdown",
      "metadata": {
        "id": "azYwVJz5nrDg"
      },
      "source": [
        "# Conferencia de Solvay\r\n",
        "> Colorização da imagem da conferencia de Solvay  usando a rede neural DeOldify\r\n",
        "\r\n",
        " - toc: false\r\n",
        " - branch: master\r\n",
        " - badges: true\r\n",
        " - comments: true\r\n",
        " - categories: [Ciência]\r\n",
        " "
      ]
    },
    {
      "cell_type": "code",
      "metadata": {
        "id": "ZL5_1Uj6jpeh"
      },
      "source": [
        "#hide\r\n",
        "!wget https://raw.githubusercontent.com/awarischool/data-science/master/image-colorizer/deoldify_wrapper.py\r\n"
      ],
      "execution_count": null,
      "outputs": []
    },
    {
      "cell_type": "code",
      "metadata": {
        "id": "RyB4xg5CjtfB"
      },
      "source": [
        "from deoldify_wrapper import DeOldify"
      ],
      "execution_count": null,
      "outputs": []
    },
    {
      "cell_type": "code",
      "metadata": {
        "id": "DZ9oBREGjvEg"
      },
      "source": [
        "#hide\r\n",
        "deo = DeOldify()"
      ],
      "execution_count": null,
      "outputs": []
    },
    {
      "cell_type": "code",
      "metadata": {
        "id": "zOXXb4UqjwZk"
      },
      "source": [
        "!wget https://i.imgur.com/pxw5ga3.jpg"
      ],
      "execution_count": null,
      "outputs": []
    },
    {
      "cell_type": "code",
      "metadata": {
        "id": "spSlGCYhjyMa"
      },
      "source": [
        "deo.colorize( 'https://i.imgur.com/pxw5ga3.jpg', render_factor=50  )"
      ],
      "execution_count": null,
      "outputs": []
    }
  ]
}